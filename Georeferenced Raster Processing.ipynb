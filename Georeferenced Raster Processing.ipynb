{
 "cells": [
  {
   "cell_type": "markdown",
   "metadata": {},
   "source": [
    "This notebook does basically the same thing as [Raster Analysis](https://github.com/willgeary/anomaly_detection_raster_images/blob/master/Raster%20Analysis.ipynb) except now we are using the [rasterio](https://mapbox.github.io/rasterio/) library to read and write georeferenced tiff files."
   ]
  },
  {
   "cell_type": "markdown",
   "metadata": {},
   "source": [
    "# Import libraries"
   ]
  },
  {
   "cell_type": "code",
   "execution_count": 1,
   "metadata": {
    "collapsed": true
   },
   "outputs": [],
   "source": [
    "import rasterio\n",
    "import numpy as np\n",
    "import pandas as pd\n",
    "import cv2"
   ]
  },
  {
   "cell_type": "markdown",
   "metadata": {},
   "source": [
    "# 1) Process Gridded Population of the World (GPW) raster"
   ]
  },
  {
   "cell_type": "markdown",
   "metadata": {},
   "source": [
    "### Read in GPW raster"
   ]
  },
  {
   "cell_type": "code",
   "execution_count": 2,
   "metadata": {
    "collapsed": true
   },
   "outputs": [],
   "source": [
    "GPW_PATH = '../raster/Resampled_BlackMarble_GPW/gpw_v4_population_count_20151.tif'"
   ]
  },
  {
   "cell_type": "code",
   "execution_count": 3,
   "metadata": {},
   "outputs": [],
   "source": [
    "with rasterio.open(GPW_PATH) as src:\n",
    "    \n",
    "    # The profile contains the metadata\n",
    "    GPW_profile = src.profile\n",
    "    \n",
    "    # Read the first and only band into an array\n",
    "    GPW = src.read(1)"
   ]
  },
  {
   "cell_type": "markdown",
   "metadata": {},
   "source": [
    "View raster metadata in GPW:"
   ]
  },
  {
   "cell_type": "code",
   "execution_count": 4,
   "metadata": {},
   "outputs": [
    {
     "data": {
      "text/plain": [
       "{'affine': Affine(0.00833333333333339, 0.0, -180.0,\n",
       "       0.0, -0.00833333333333339, 85.0000000000092),\n",
       " 'blockxsize': 128,\n",
       " 'blockysize': 128,\n",
       " 'count': 1,\n",
       " 'crs': CRS({'init': u'epsg:4326'}),\n",
       " 'driver': u'GTiff',\n",
       " 'dtype': 'float32',\n",
       " 'height': 17400,\n",
       " 'interleave': 'band',\n",
       " 'nodata': -3.402823e+38,\n",
       " 'tiled': True,\n",
       " 'transform': (-180.0,\n",
       "  0.00833333333333339,\n",
       "  0.0,\n",
       "  85.0000000000092,\n",
       "  0.0,\n",
       "  -0.00833333333333339),\n",
       " 'width': 43200}"
      ]
     },
     "execution_count": 4,
     "metadata": {},
     "output_type": "execute_result"
    }
   ],
   "source": [
    "GPW_profile"
   ]
  },
  {
   "cell_type": "markdown",
   "metadata": {},
   "source": [
    "Note the `nodata` field :\n",
    "\n",
    "Pixels marked as having \"no data\" (such as oceans or lakes) are replaced with a huge negative number `-3.402823e+38`.\n",
    "\n",
    "We want to keep all of our pixels, so we will deal with this later by setting the value of these `nodata` pixels to zero.\n",
    "\n",
    "Also note `dtype: float32`. We want to work with 64 bit floats, so the first thing we need to do is change these to 64 bit floats, which is numpy's default"
   ]
  },
  {
   "cell_type": "markdown",
   "metadata": {},
   "source": [
    "###  Convert GPW to 64 bit floats"
   ]
  },
  {
   "cell_type": "code",
   "execution_count": 5,
   "metadata": {
    "collapsed": true
   },
   "outputs": [],
   "source": [
    "GPW = GPW.astype(float) # default float is 64-bit in numpy \n",
    "GPW_profile.update(dtype='float64') # need to update profile anytime metadata changes"
   ]
  },
  {
   "cell_type": "markdown",
   "metadata": {},
   "source": [
    "### Replace huge negative nodata values in GPW with zeros"
   ]
  },
  {
   "cell_type": "code",
   "execution_count": 6,
   "metadata": {},
   "outputs": [],
   "source": [
    "GPW[ GPW < -10000000000 ] = 0"
   ]
  },
  {
   "cell_type": "markdown",
   "metadata": {},
   "source": [
    "### Remove the concept of `nodata` altogether, so that all pixels are kept intact on output"
   ]
  },
  {
   "cell_type": "code",
   "execution_count": 7,
   "metadata": {},
   "outputs": [],
   "source": [
    "del GPW_profile['nodata']"
   ]
  },
  {
   "cell_type": "markdown",
   "metadata": {},
   "source": [
    "### Scale GPW from 0 to 1"
   ]
  },
  {
   "cell_type": "code",
   "execution_count": 8,
   "metadata": {
    "collapsed": true
   },
   "outputs": [],
   "source": [
    "def min_max_scaler(array):\n",
    "    array_scaled = (array - array.min()) / (array.max() - array.min())\n",
    "    return array_scaled"
   ]
  },
  {
   "cell_type": "code",
   "execution_count": 9,
   "metadata": {
    "collapsed": true
   },
   "outputs": [],
   "source": [
    "GPW_scaled = min_max_scaler(GPW)"
   ]
  },
  {
   "cell_type": "markdown",
   "metadata": {},
   "source": [
    "### Smooth GPW with Gaussian Blur"
   ]
  },
  {
   "cell_type": "code",
   "execution_count": 10,
   "metadata": {
    "collapsed": true
   },
   "outputs": [],
   "source": [
    "kernel_size = (15,15)"
   ]
  },
  {
   "cell_type": "code",
   "execution_count": 11,
   "metadata": {},
   "outputs": [],
   "source": [
    "GPW_gaussian = cv2.GaussianBlur(GPW_scaled, kernel_size,0)"
   ]
  },
  {
   "cell_type": "markdown",
   "metadata": {},
   "source": [
    "### Enhance contrast in GPW"
   ]
  },
  {
   "cell_type": "markdown",
   "metadata": {},
   "source": [
    "http://scikit-image.org/docs/dev/auto_examples/color_exposure/plot_equalize.html"
   ]
  },
  {
   "cell_type": "code",
   "execution_count": 12,
   "metadata": {
    "collapsed": true
   },
   "outputs": [],
   "source": [
    "from skimage import exposure"
   ]
  },
  {
   "cell_type": "code",
   "execution_count": 13,
   "metadata": {
    "collapsed": true
   },
   "outputs": [],
   "source": [
    "# Cumulative count cut\n",
    "p_min, p_max = 0.75, 99.25\n",
    "\n",
    "# Rescale intensity to enhance contrast\n",
    "pmin, pmax = np.percentile(GPW_gaussian, (p_min, p_max))\n",
    "GPW_gaussian_enhanced = exposure.rescale_intensity(GPW_gaussian, in_range=(pmin, pmax))"
   ]
  },
  {
   "cell_type": "markdown",
   "metadata": {},
   "source": [
    "### Scale GPW back to 0 to 255"
   ]
  },
  {
   "cell_type": "code",
   "execution_count": 14,
   "metadata": {
    "collapsed": true
   },
   "outputs": [],
   "source": [
    "GPW_final = GPW_gaussian_enhanced * 255"
   ]
  },
  {
   "cell_type": "markdown",
   "metadata": {},
   "source": [
    "### Convert GPW to integers"
   ]
  },
  {
   "cell_type": "code",
   "execution_count": 15,
   "metadata": {
    "collapsed": true
   },
   "outputs": [],
   "source": [
    "GPW_final = np.uint8(GPW_final)\n",
    "GPW_final_profile = GPW_profile\n",
    "GPW_final_profile.update(dtype=rasterio.uint8) # need to update profile anytime metadata changes"
   ]
  },
  {
   "cell_type": "markdown",
   "metadata": {},
   "source": [
    "### Write Processed GPW to GeoTIFF"
   ]
  },
  {
   "cell_type": "code",
   "execution_count": 16,
   "metadata": {},
   "outputs": [
    {
     "name": "stderr",
     "output_type": "stream",
     "text": [
      "/anaconda/lib/python2.7/site-packages/rasterio/__init__.py:160: FutureWarning: GDAL-style transforms are deprecated and will not be supported in Rasterio 1.0.\n",
      "  transform = guard_transform(transform)\n"
     ]
    }
   ],
   "source": [
    "with rasterio.open('GPW_smoothed_enhanced.tif', 'w', **GPW_final_profile) as dst:\n",
    "    dst.write(GPW_final, 1)"
   ]
  },
  {
   "cell_type": "markdown",
   "metadata": {},
   "source": [
    "### Delete the intermediate arrays to save memory"
   ]
  },
  {
   "cell_type": "code",
   "execution_count": 17,
   "metadata": {},
   "outputs": [],
   "source": [
    "del GPW_gaussian\n",
    "del GPW_scaled"
   ]
  },
  {
   "cell_type": "markdown",
   "metadata": {},
   "source": [
    "# 2) Process Black Marble (BM) raster"
   ]
  },
  {
   "cell_type": "markdown",
   "metadata": {},
   "source": [
    "### Read in Black Marble raster"
   ]
  },
  {
   "cell_type": "code",
   "execution_count": 18,
   "metadata": {
    "collapsed": true
   },
   "outputs": [],
   "source": [
    "BM_PATH = \"../raster/Resampled_BlackMarble_GPW/BlackMarble_mosaic_resample_32BIT_normalize.tif\""
   ]
  },
  {
   "cell_type": "code",
   "execution_count": 19,
   "metadata": {
    "collapsed": true
   },
   "outputs": [],
   "source": [
    "with rasterio.open(BM_PATH) as src:\n",
    "    \n",
    "    # The profile contains the metadata\n",
    "    BM_profile = src.profile\n",
    "    \n",
    "    # Read the first and only band into an array\n",
    "    BM = src.read(1)"
   ]
  },
  {
   "cell_type": "markdown",
   "metadata": {},
   "source": [
    "View the raster metadata:"
   ]
  },
  {
   "cell_type": "code",
   "execution_count": 20,
   "metadata": {},
   "outputs": [
    {
     "data": {
      "text/plain": [
       "{'affine': Affine(0.00833333333333339, 0.0, -180.0,\n",
       "       0.0, -0.00833333333333339, 85.00000000000001),\n",
       " 'blockxsize': 128,\n",
       " 'blockysize': 128,\n",
       " 'count': 1,\n",
       " 'crs': CRS({}),\n",
       " 'driver': u'GTiff',\n",
       " 'dtype': 'float32',\n",
       " 'height': 17400,\n",
       " 'interleave': 'band',\n",
       " 'nodata': -3.402823e+38,\n",
       " 'tiled': True,\n",
       " 'transform': (-180.0,\n",
       "  0.00833333333333339,\n",
       "  0.0,\n",
       "  85.00000000000001,\n",
       "  0.0,\n",
       "  -0.00833333333333339),\n",
       " 'width': 43200}"
      ]
     },
     "execution_count": 20,
     "metadata": {},
     "output_type": "execute_result"
    }
   ],
   "source": [
    "BM_profile"
   ]
  },
  {
   "cell_type": "markdown",
   "metadata": {},
   "source": [
    "### Convert Black Marble to 64 bit floats"
   ]
  },
  {
   "cell_type": "code",
   "execution_count": 21,
   "metadata": {
    "collapsed": true
   },
   "outputs": [],
   "source": [
    "BM = BM.astype(float)\n",
    "BM_profile.update(dtype='float64') # need to update profile anytime metadata changes"
   ]
  },
  {
   "cell_type": "markdown",
   "metadata": {},
   "source": [
    "### Replace negative nodata values in Black Marble with zeros"
   ]
  },
  {
   "cell_type": "code",
   "execution_count": 22,
   "metadata": {
    "collapsed": true
   },
   "outputs": [],
   "source": [
    "BM[ BM < -10000000000 ] = 0"
   ]
  },
  {
   "cell_type": "markdown",
   "metadata": {},
   "source": [
    "### Remove the concept of nodata so all pixels are kept on output"
   ]
  },
  {
   "cell_type": "code",
   "execution_count": 23,
   "metadata": {
    "collapsed": true
   },
   "outputs": [],
   "source": [
    "del BM_profile['nodata']"
   ]
  },
  {
   "cell_type": "markdown",
   "metadata": {},
   "source": [
    "### Scale Black Marble from 0 to 1"
   ]
  },
  {
   "cell_type": "code",
   "execution_count": 24,
   "metadata": {
    "collapsed": true
   },
   "outputs": [],
   "source": [
    "BM_scaled = min_max_scaler(BM)"
   ]
  },
  {
   "cell_type": "markdown",
   "metadata": {},
   "source": [
    "### Smooth Black Marble with Gaussian Blur"
   ]
  },
  {
   "cell_type": "code",
   "execution_count": 25,
   "metadata": {
    "collapsed": true
   },
   "outputs": [],
   "source": [
    "kernel_size = (11,11)"
   ]
  },
  {
   "cell_type": "code",
   "execution_count": 26,
   "metadata": {},
   "outputs": [],
   "source": [
    "BM_gaussian = cv2.GaussianBlur(BM_scaled, kernel_size,0)"
   ]
  },
  {
   "cell_type": "markdown",
   "metadata": {},
   "source": [
    "### Enhance contrast in Black Marble"
   ]
  },
  {
   "cell_type": "markdown",
   "metadata": {},
   "source": [
    "http://scikit-image.org/docs/dev/auto_examples/color_exposure/plot_equalize.html"
   ]
  },
  {
   "cell_type": "code",
   "execution_count": 27,
   "metadata": {
    "collapsed": true
   },
   "outputs": [],
   "source": [
    "# Cumulative count cut\n",
    "p_min, p_max = 0.075, 99.925\n",
    "\n",
    "# Rescale intensity to enhance contrast\n",
    "pmin, pmax = np.percentile(BM_gaussian, (p_min, p_max))\n",
    "BM_gaussian_enhanced = exposure.rescale_intensity(BM_gaussian, in_range=(pmin, pmax))"
   ]
  },
  {
   "cell_type": "markdown",
   "metadata": {},
   "source": [
    "### Scale Black Marble back to 0 to 255"
   ]
  },
  {
   "cell_type": "code",
   "execution_count": 28,
   "metadata": {
    "collapsed": true
   },
   "outputs": [],
   "source": [
    "BM_final = BM_gaussian_enhanced * 255"
   ]
  },
  {
   "cell_type": "markdown",
   "metadata": {},
   "source": [
    "### Convert Black Marble to integers"
   ]
  },
  {
   "cell_type": "code",
   "execution_count": 29,
   "metadata": {
    "collapsed": true
   },
   "outputs": [],
   "source": [
    "BM_final = np.uint8(BM_final)"
   ]
  },
  {
   "cell_type": "markdown",
   "metadata": {},
   "source": [
    "### Write Processed Black Marble to GeoTIFF"
   ]
  },
  {
   "cell_type": "code",
   "execution_count": 30,
   "metadata": {
    "collapsed": true
   },
   "outputs": [],
   "source": [
    "# need to update profile anytime metadata changes\n",
    "BM_final_profile = BM_profile\n",
    "BM_final_profile.update(dtype=rasterio.uint8)\n",
    "\n",
    "with rasterio.open('BM_smoothed_enhanced.tif', 'w', **BM_final_profile) as dst:\n",
    "    dst.write(BM_final, 1)"
   ]
  },
  {
   "cell_type": "markdown",
   "metadata": {},
   "source": [
    "### Delete the intermediate arrays to save memory"
   ]
  },
  {
   "cell_type": "code",
   "execution_count": 31,
   "metadata": {
    "collapsed": true
   },
   "outputs": [],
   "source": [
    "del BM_gaussian\n",
    "del BM_scaled"
   ]
  },
  {
   "cell_type": "markdown",
   "metadata": {},
   "source": [
    "# 3) Calculate difference\n",
    "\n",
    "Gridded Population Minus Black Marble"
   ]
  },
  {
   "cell_type": "code",
   "execution_count": 32,
   "metadata": {},
   "outputs": [],
   "source": [
    "diff = GPW_gaussian_enhanced - BM_gaussian_enhanced"
   ]
  },
  {
   "cell_type": "markdown",
   "metadata": {},
   "source": [
    "Save the difference array to a geotiff."
   ]
  },
  {
   "cell_type": "code",
   "execution_count": 34,
   "metadata": {},
   "outputs": [],
   "source": [
    "# need to update profile anytime metadata changes\n",
    "diff_profile = BM_profile\n",
    "diff_profile.update(dtype='float64')\n",
    "\n",
    "with rasterio.open('Difference_smoothed_enhanced.tif', 'w', **diff_profile) as dst:\n",
    "    dst.write(diff, 1)"
   ]
  }
 ],
 "metadata": {
  "kernelspec": {
   "display_name": "Python 2",
   "language": "python",
   "name": "python2"
  },
  "language_info": {
   "codemirror_mode": {
    "name": "ipython",
    "version": 2
   },
   "file_extension": ".py",
   "mimetype": "text/x-python",
   "name": "python",
   "nbconvert_exporter": "python",
   "pygments_lexer": "ipython2",
   "version": "2.7.13"
  }
 },
 "nbformat": 4,
 "nbformat_minor": 2
}
